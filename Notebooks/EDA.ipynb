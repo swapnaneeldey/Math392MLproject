{
 "cells": [
  {
   "cell_type": "markdown",
   "id": "89550cd3",
   "metadata": {},
   "source": [
    "# Exploratory data analysis\n",
    "#### In this notebook, we carry out some EDA on the features in the dataset"
   ]
  },
  {
   "cell_type": "code",
   "execution_count": 1,
   "id": "a76c8efe",
   "metadata": {},
   "outputs": [],
   "source": [
    "# Import necessary libraries\n",
    "import pandas as pd\n",
    "import numpy as np\n",
    "import matplotlib.pyplot as plt\n",
    "import seaborn as sns"
   ]
  },
  {
   "cell_type": "code",
   "execution_count": 5,
   "id": "789905eb",
   "metadata": {},
   "outputs": [],
   "source": [
    "# Load the dataset\n",
    "data = pd.read_csv('../data/dataset.csv')\n"
   ]
  },
  {
   "cell_type": "code",
   "execution_count": null,
   "id": "471f6ba8",
   "metadata": {
    "vscode": {
     "languageId": "r"
    }
   },
   "outputs": [],
   "source": [
    "from scipy.stats import shapiro\n",
    "from sklearn.preprocessing import StandardScaler\n",
    "\n",
    "# Understand the data structure\n",
    "print(\"Dataset Info:\")\n",
    "print(data.info())\n",
    "print(\"\\nSummary Statistics:\")\n",
    "print(data.describe())\n",
    "\n",
    "# Detect anomalies or outliers\n",
    "plt.figure(figsize=(12, 6))\n",
    "sns.boxplot(data=data[numerical_columns])\n",
    "plt.title(\"Boxplot of Numerical Columns\")\n",
    "plt.xticks(rotation=45)\n",
    "plt.show()\n",
    "\n",
    "# Test assumptions: Check for normality in numerical columns\n",
    "\n",
    "for col in numerical_columns:\n",
    "    stat, p = shapiro(data[col].dropna())\n",
    "    print(f\"Shapiro-Wilk Test for {col}: Statistic={stat}, p-value={p}\")\n",
    "    if p > 0.05:\n",
    "        print(f\"{col} appears to be normally distributed.\\n\")\n",
    "    else:\n",
    "        print(f\"{col} does not appear to be normally distributed.\\n\")\n",
    "\n",
    "# Spot patterns, trends, and relationships\n",
    "sns.pairplot(data[numerical_columns])\n",
    "plt.suptitle(\"Pairplot of Numerical Columns\", y=1.02)\n",
    "plt.show()\n",
    "\n",
    "# Correlation heatmap\n",
    "plt.figure(figsize=(10, 8))\n",
    "correlation_matrix = data[numerical_columns].corr()\n",
    "sns.heatmap(correlation_matrix, annot=True, cmap=\"coolwarm\", fmt=\".2f\")\n",
    "plt.title(\"Correlation Heatmap\")\n",
    "plt.show()\n",
    "\n",
    "# Prepare for further analysis: Check for missing values\n",
    "missing_values = data.isnull().sum()\n",
    "print(\"Missing Values:\")\n",
    "print(missing_values[missing_values > 0])\n",
    "\n",
    "# Prepare for further analysis: Feature scaling\n",
    "\n",
    "scaler = StandardScaler()\n",
    "scaled_data = scaler.fit_transform(data[numerical_columns])\n",
    "scaled_df = pd.DataFrame(scaled_data, columns=numerical_columns)\n",
    "print(\"\\nScaled Data (First 5 Rows):\")\n",
    "print(scaled_df.head())"
   ]
  }
 ],
 "metadata": {
  "kernelspec": {
   "display_name": "math392",
   "language": "python",
   "name": "python3"
  },
  "language_info": {
   "codemirror_mode": {
    "name": "ipython",
    "version": 3
   },
   "file_extension": ".py",
   "mimetype": "text/x-python",
   "name": "python",
   "nbconvert_exporter": "python",
   "pygments_lexer": "ipython3",
   "version": "3.11.11"
  }
 },
 "nbformat": 4,
 "nbformat_minor": 5
}
